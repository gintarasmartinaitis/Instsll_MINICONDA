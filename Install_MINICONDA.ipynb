{
  "cells": [
    {
      "cell_type": "markdown",
      "metadata": {
        "id": "view-in-github",
        "colab_type": "text"
      },
      "source": [
        "<a href=\"https://colab.research.google.com/github/gintarasmartinaitis/Instsll_MINICONDA/blob/main/Install_MINICONDA.ipynb\" target=\"_parent\"><img src=\"https://colab.research.google.com/assets/colab-badge.svg\" alt=\"Open In Colab\"/></a>"
      ]
    },
    {
      "cell_type": "code",
      "execution_count": null,
      "metadata": {
        "id": "yyWUjH-bQHyu"
      },
      "outputs": [],
      "source": [
        "from google.colab import drive\n",
        "drive.mount( '/content/drive', force_remount=True )"
      ]
    },
    {
      "cell_type": "code",
      "execution_count": null,
      "metadata": {
        "id": "OSNVHLaWbJHB"
      },
      "outputs": [],
      "source": [
        "import os\n",
        "import sys\n",
        "\n",
        "url=\"https://repo.anaconda.com/miniconda/\"\n",
        "CONDA=\"Miniconda3-py310_23.1.0-1-Linux-x86_64.sh\"\n",
        "PREFIX=\"/content/MINICONDA\"\n",
        "CONDARC=PREFIX+\"/.condarc\"\n",
        "CONDA_ROOT=PREFIX\n",
        "PYTHONPATH=\"\"\n",
        "\n",
        "if not os.path.exists( PREFIX ):\n",
        "   !cp -rv /content/drive/MyDrive/MINICONDA ./\n",
        "\n",
        "if PREFIX + \"/bin\" not in os.environ[ 'PATH' ] :\n",
        "    os.environ['PATH']= \"%s:%s\"%( os.environ[\"PATH\"], PREFIX + \"/bin\" )\n",
        "\n",
        "if (PREFIX+'/lib/python3.10/site-packages/' ) not in sys.path:\n",
        "    sys.path.append(PREFIX+'/lib/python3.10/site-packages/' )\n",
        "\n",
        "################################################################################\n",
        "# INSTALL CONDA ON GOOGLE COLAB\n",
        "################################################################################\n",
        "!wget \"$url$CONDA\" -O ./$CONDA\n",
        "!chmod +x ./$CONDA\n",
        "!bash ./$CONDA -b -f -p $PREFIX\n",
        "\n",
        "#!conda config --file $CONDARC --prepend envs_dirs $PREFIX\\envs\n",
        "#!conda config --file $CONDARC --prepend pkgs_dirs $PREFIX\\pkgs\n",
        "\n",
        "!conda info\n",
        "!source activate && conda info\n",
        "!conda info"
      ]
    },
    {
      "cell_type": "code",
      "source": [
        "!tar -czf /content/MINICONDA.tar.gz MINICONDA"
      ],
      "metadata": {
        "id": "wxBQQPX9fE7k"
      },
      "execution_count": null,
      "outputs": []
    },
    {
      "cell_type": "code",
      "source": [
        "!rm -rf /content/MINICONDA"
      ],
      "metadata": {
        "id": "CL1Ixb7Zd48L"
      },
      "execution_count": null,
      "outputs": []
    }
  ],
  "metadata": {
    "colab": {
      "private_outputs": true,
      "provenance": [],
      "mount_file_id": "1rnkVg6VAAqoG0iy0CNQj9RijOmOpLbrl",
      "authorship_tag": "ABX9TyMus0pyWlgYOQZsjiOiy8JH",
      "include_colab_link": true
    },
    "kernelspec": {
      "display_name": "Python 3",
      "name": "python3"
    },
    "language_info": {
      "name": "python"
    },
    "gpuClass": "standard"
  },
  "nbformat": 4,
  "nbformat_minor": 0
}