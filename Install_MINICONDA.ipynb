{
  "cells": [
    {
      "cell_type": "markdown",
      "metadata": {
        "id": "view-in-github",
        "colab_type": "text"
      },
      "source": [
        "<a href=\"https://colab.research.google.com/github/gintarasmartinaitis/Instsll_MINICONDA/blob/main/Install_MINICONDA.ipynb\" target=\"_parent\"><img src=\"https://colab.research.google.com/assets/colab-badge.svg\" alt=\"Open In Colab\"/></a>"
      ]
    },
    {
      "cell_type": "code",
      "execution_count": null,
      "metadata": {
        "id": "yyWUjH-bQHyu"
      },
      "outputs": [],
      "source": [
        "from google.colab import drive\n",
        "drive.mount( '/content/drive', force_remount=True )"
      ]
    },
    {
      "cell_type": "code",
      "execution_count": null,
      "metadata": {
        "id": "OSNVHLaWbJHB"
      },
      "outputs": [],
      "source": [
        "import os\n",
        "import sys\n",
        "\n",
        "if not os.path.exists( \"/content/drive/MyDrive/CONDA\" ):\n",
        "    !git clone https://github.com/gintarasmartinaitis/CONDA.git \"/content/drive/MyDrive/CONDA\" >/dev/null 2>&1\n",
        "\n",
        "%cd /content/\n",
        "CONDA=\"Miniconda3-4.5.4-Linux-x86_64.sh\"\n",
        "PREFIX=\"/content/MINICONDA\"\n",
        "%env CONFDARC=PREFIX+\"/.condarc\"\n",
        "%env PYTHONPATH=\n",
        "#( PREFIX + \"/bin\" )\n",
        "if bin not in os.environ[ 'PATH' ] :\n",
        "    os.environ['PATH']= \"%s:%s\"%( os.environ[\"PATH\"], bin )\n",
        "\n",
        "if (PREFIX+'/lib/python3.6/site-packages/' ) not in sys.path:\n",
        "    sys.path.append(PREFIX+'/lib/python3.6/site-packages/' )\n",
        "'''\n",
        "################################################################################\n",
        "# INSTALL CONDA ON GOOGLE COLAB\n",
        "################################################################################\n",
        "!wget \"https://repo.continuum.io/miniconda\"/$CONDA -O ./$CONDA\n",
        "!chmod +x ./$CONDA\n",
        "!bash ./$CONDA -b -f -p $PREFIX\n",
        "\n",
        "!rm -f /content/MINICONDA/pkgs/conda-4.5.4-py36_0/info/test/tests/condarc\n",
        "!cp -vf /content/drive/MyDrive/CONDA/.condarc $PREFIX\n",
        "\n",
        "!tar -czf /content/drive/MyDrive/CONDA/MINICONDA.tar.gz MINICONDA\n",
        "\n",
        "!conda info\n",
        "!source activate && conda info\n",
        "!conda info\n",
        "'''"
      ]
    },
    {
      "cell_type": "code",
      "execution_count": null,
      "metadata": {
        "id": "eRxGbxE4-bum"
      },
      "outputs": [],
      "source": [
        "!source activate && conda info\n",
        "!conda list"
      ]
    },
    {
      "cell_type": "code",
      "execution_count": null,
      "metadata": {
        "id": "Ay5U4IL3iio2"
      },
      "outputs": [],
      "source": [
        "%%bash\n",
        "conda info\n",
        "source activate\n",
        "#conda list\n",
        "conda info"
      ]
    },
    {
      "cell_type": "code",
      "source": [
        "!echo $PATH"
      ],
      "metadata": {
        "id": "sXHYT7rN6Tlc"
      },
      "execution_count": null,
      "outputs": []
    }
  ],
  "metadata": {
    "colab": {
      "private_outputs": true,
      "provenance": [],
      "authorship_tag": "ABX9TyOgZ5fJklR9/0Ib3MgbK9NL",
      "include_colab_link": true
    },
    "kernelspec": {
      "display_name": "Python 3",
      "name": "python3"
    },
    "language_info": {
      "name": "python"
    },
    "gpuClass": "standard"
  },
  "nbformat": 4,
  "nbformat_minor": 0
}